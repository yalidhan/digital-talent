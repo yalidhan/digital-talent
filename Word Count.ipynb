{
 "cells": [
  {
   "cell_type": "markdown",
   "metadata": {},
   "source": [
    "Diberikan sebuah paragraf, hitunglah banyak kemunculan masing-masing kata. \n",
    "#hints: Gunakan Dictionary dalam menyimpan word count. Gunakan kata sebagai key, dan jumlah kemunculan sebagai value"
   ]
  },
  {
   "cell_type": "code",
   "execution_count": 74,
   "metadata": {},
   "outputs": [
    {
     "name": "stdout",
     "output_type": "stream",
     "text": [
      "~ Barcelona : 4 Kemunculan\n",
      "~ berhasil : 1 Kemunculan\n",
      "~ merebut : 1 Kemunculan\n",
      "~ posisi : 1 Kemunculan\n",
      "~ puncak : 1 Kemunculan\n",
      "~ klasemen : 1 Kemunculan\n",
      "~ La : 1 Kemunculan\n",
      "~ Liga : 1 Kemunculan\n",
      "~ Spanyol : 1 Kemunculan\n",
      "~ seusai : 1 Kemunculan\n",
      "~ menang : 1 Kemunculan\n",
      "~ 4-2 : 1 Kemunculan\n",
      "~ atas : 1 Kemunculan\n",
      "~ Sevilla : 1 Kemunculan\n",
      "~ pada : 3 Kemunculan\n",
      "~ pertandingan : 1 Kemunculan\n",
      "~ pekan : 1 Kemunculan\n",
      "~ kesembilan : 1 Kemunculan\n",
      "~ di : 1 Kemunculan\n",
      "~ Stadion : 1 Kemunculan\n",
      "~ Camp : 1 Kemunculan\n",
      "~ Nou : 1 Kemunculan\n",
      "~ Sabtu : 1 Kemunculan\n",
      "~ (20/10/2018) : 1 Kemunculan\n",
      "~ atau : 1 Kemunculan\n",
      "~ Minggu : 1 Kemunculan\n",
      "~ dini : 1 Kemunculan\n",
      "~ hari : 1 Kemunculan\n",
      "~ WIB : 1 Kemunculan\n",
      "~ membuka : 1 Kemunculan\n",
      "~ keunggulan : 2 Kemunculan\n",
      "~ menit : 3 Kemunculan\n",
      "~ ke-2 : 1 Kemunculan\n",
      "~ melalui : 1 Kemunculan\n",
      "~ gol : 1 Kemunculan\n",
      "~ yang : 1 Kemunculan\n",
      "~ dicetak : 1 Kemunculan\n",
      "~ oleh : 1 Kemunculan\n",
      "~ Philippe : 1 Kemunculan\n",
      "~ Coutinho : 1 Kemunculan\n",
      "~ Lionel : 1 Kemunculan\n",
      "~ Messi : 3 Kemunculan\n",
      "~ menggandakan : 1 Kemunculan\n",
      "~ 10 : 1 Kemunculan\n",
      "~ berselang : 1 Kemunculan\n",
      "~ Namun : 1 Kemunculan\n",
      "~ nahas : 1 Kemunculan\n",
      "~ bagi : 1 Kemunculan\n",
      "~ karena : 1 Kemunculan\n",
      "~ harus : 1 Kemunculan\n",
      "~ ditarik : 1 Kemunculan\n",
      "~ keluar : 1 Kemunculan\n",
      "~ ke-26 : 1 Kemunculan\n",
      "~ setelah : 1 Kemunculan\n",
      "~ mengalami : 1 Kemunculan\n",
      "~ cedera : 1 Kemunculan\n",
      "~ Tanpa : 1 Kemunculan\n",
      "~ skor : 1 Kemunculan\n",
      "~ 2-0 : 1 Kemunculan\n",
      "~ bertahan : 1 Kemunculan\n",
      "~ hingga : 1 Kemunculan\n",
      "~ babak : 1 Kemunculan\n",
      "~ pertama : 1 Kemunculan\n",
      "~ berakhir : 1 Kemunculan\n"
     ]
    }
   ],
   "source": [
    "words={}\n",
    "paragraf=\"Barcelona berhasil merebut posisi puncak klasemen La Liga Spanyol seusai menang 4-2 atas Sevilla pada pertandingan pekan kesembilan di Stadion Camp Nou, Sabtu (20/10/2018) atau Minggu dini hari WIB. Barcelona membuka keunggulan pada menit ke-2 melalui gol yang dicetak oleh Philippe Coutinho. Lionel Messi menggandakan keunggulan Barcelona, 10 menit berselang.  Namun, nahas bagi Barcelona, karena Messi harus ditarik keluar pada menit ke-26 setelah mengalami cedera. Tanpa Messi, skor 2-0 bertahan hingga babak pertama berakhir.\" \n",
    "paragraf=paragraf.replace(\",\",\"\")\n",
    "paragraf=paragraf.replace(\".\",\"\")\n",
    "paragraf=paragraf.split()\n",
    "for wrd in paragraf:\n",
    "    if wrd in words:\n",
    "        words[wrd]+=1\n",
    "    else:\n",
    "        words[wrd]=1\n",
    "for w,k in words.items():\n",
    "    print(\"~\",w,\":\",k,\"Kemunculan\")\n"
   ]
  },
  {
   "cell_type": "code",
   "execution_count": null,
   "metadata": {},
   "outputs": [],
   "source": []
  }
 ],
 "metadata": {
  "kernelspec": {
   "display_name": "Python 3",
   "language": "python",
   "name": "python3"
  },
  "language_info": {
   "codemirror_mode": {
    "name": "ipython",
    "version": 3
   },
   "file_extension": ".py",
   "mimetype": "text/x-python",
   "name": "python",
   "nbconvert_exporter": "python",
   "pygments_lexer": "ipython3",
   "version": "3.7.0"
  }
 },
 "nbformat": 4,
 "nbformat_minor": 2
}
