{
 "cells": [
  {
   "cell_type": "markdown",
   "metadata": {},
   "source": [
    "Diberikan sekumpulan Nilai Random antara 0 sampai dengan 100 sebanyak 250 nilai. Buatlah program untuk melakukan hal berikut:\n",
    "\n",
    "1. Tampilkan Angka Ganjil dari ke 250 nilai tersebut\n",
    "2. Tampilkan berapa banyak yang mendapatkan nilai lebih dari 70\n",
    "3. Tampilkan standar deviasi dari sekumpulan nilai tersebut\n",
    "4. Tampilkan nilai maksimum dan minimum\n",
    "5. Tampilkan modus dari sekumpulan nilai tersebut"
   ]
  },
  {
   "cell_type": "code",
   "execution_count": 81,
   "metadata": {},
   "outputs": [
    {
     "name": "stdout",
     "output_type": "stream",
     "text": [
      "List Nilai= [28, 96, 9, 65, 60, 47, 1, 81, 24, 20, 79, 79, 30, 5, 38, 28, 15, 19, 49, 95, 85, 56, 11, 51, 61, 69, 84, 75, 44, 71, 61, 28, 81, 52, 99, 34, 57, 64, 75, 92, 88, 98, 46, 31, 20, 20, 42, 48, 9, 23, 83, 34, 63, 57, 77, 37, 78, 3, 44, 81, 20, 89, 8, 58, 77, 26, 57, 28, 85, 22, 95, 23, 67, 81, 72, 70, 98, 13, 67, 18, 78, 83, 65, 64, 2, 89, 66, 4, 81, 97, 21, 59, 36, 12, 45, 77, 49, 78, 57, 58, 40, 83, 15, 52, 79, 48, 6, 30, 87, 15, 16, 93, 8, 9, 30, 9, 68, 2, 96, 64, 84, 42, 14, 27, 70, 46, 78, 57, 90, 33, 88, 90, 41, 39, 26, 66, 7, 39, 29, 89, 11, 67, 5, 9, 17, 66, 81, 98, 89, 66, 2, 15, 15, 93, 24, 11, 42, 24, 6, 88, 75, 13, 45, 95, 37, 53, 12, 17, 77, 26, 80, 52, 70, 37, 81, 7, 14, 41, 82, 99, 56, 61, 30, 67, 9, 87, 30, 35, 79, 66, 97, 58, 6, 65, 90, 19, 56, 86, 5, 67, 13, 21, 56, 86, 17, 46, 82, 67, 36, 15, 10, 35, 54, 39, 29, 72, 3, 88, 17, 16, 48, 44, 69, 48, 60, 20, 92, 1, 45, 96, 21, 50, 55, 80, 86, 93, 49, 23, 54, 86, 48, 87, 65, 22, 43, 63, 86, 22, 74, 60]\n"
     ]
    }
   ],
   "source": [
    "import random\n",
    "taskValue=[]\n",
    "for v in range(250):\n",
    "    taskValue.append(random.randrange(1,100,1))\n",
    "print(\"List Nilai=\",taskValue)"
   ]
  },
  {
   "cell_type": "code",
   "execution_count": 87,
   "metadata": {},
   "outputs": [
    {
     "name": "stdout",
     "output_type": "stream",
     "text": [
      "List Angka Ganjil dari ke 250 nilai:\n",
      "[9, 65, 47, 1, 81, 79, 79, 5, 15, 19, 49, 95, 85, 11, 51, 61, 69, 75, 71, 61, 81, 99, 57, 75, 31, 9, 23, 83, 63, 57, 77, 37, 3, 81, 89, 77, 57, 85, 95, 23, 67, 81, 13, 67, 83, 65, 89, 81, 97, 21, 59, 45, 77, 49, 57, 83, 15, 79, 87, 15, 93, 9, 9, 27, 57, 33, 41, 39, 7, 39, 29, 89, 11, 67, 5, 9, 17, 81, 89, 15, 15, 93, 11, 75, 13, 45, 95, 37, 53, 17, 77, 37, 81, 7, 41, 99, 61, 67, 9, 87, 35, 79, 97, 65, 19, 5, 67, 13, 21, 17, 67, 15, 35, 39, 29, 3, 17, 69, 1, 45, 21, 55, 93, 49, 23, 87, 65, 43, 63]\n"
     ]
    }
   ],
   "source": [
    "##1.Tampilkan Angka Ganjil dari ke 250 nilai tersebut\n",
    "oddNumber=[]\n",
    "\n",
    "for o in taskValue:\n",
    "    if o %2 != 0:\n",
    "        oddNumber.append(o)\n",
    "print (\"List Angka Ganjil dari ke 250 nilai:\")\n",
    "print (oddNumber)"
   ]
  },
  {
   "cell_type": "code",
   "execution_count": 86,
   "metadata": {},
   "outputs": [
    {
     "name": "stdout",
     "output_type": "stream",
     "text": [
      "List dari nilai yang lebih dari 70 adalah:\n",
      "[96, 81, 79, 79, 95, 85, 84, 75, 71, 81, 99, 75, 92, 88, 98, 83, 77, 78, 81, 89, 77, 85, 95, 81, 72, 98, 78, 83, 89, 81, 97, 77, 78, 83, 79, 87, 93, 96, 84, 78, 90, 88, 90, 89, 81, 98, 89, 93, 88, 75, 95, 77, 80, 81, 82, 99, 87, 79, 97, 90, 86, 86, 82, 72, 88, 92, 96, 80, 86, 93, 86, 87, 86, 74]\n",
      "Jumlah yang mendapatkan nilai lebih dari 70 adalah: 74\n"
     ]
    }
   ],
   "source": [
    "#2.Tampilkan berapa banyak yang mendapatkan nilai lebih dari 70\n",
    "greaterThan70=[]\n",
    "for gt in taskValue:\n",
    "    if gt>70:\n",
    "        greaterThan70.append(gt)\n",
    "print (\"List dari nilai yang lebih dari 70 adalah:\")\n",
    "print (greaterThan70)\n",
    "print (\"Jumlah yang mendapatkan nilai lebih dari 70 adalah:\",len(greaterThan70))"
   ]
  },
  {
   "cell_type": "code",
   "execution_count": 113,
   "metadata": {},
   "outputs": [
    {
     "name": "stdout",
     "output_type": "stream",
     "text": [
      "Nilai Rata-Rata\t= 50.412\n",
      "Sigma   \t= 209810.56400000013\n",
      "Standar Deviasi\t= 28.969678217059997\n"
     ]
    }
   ],
   "source": [
    "#3. Tampilkan standar deviasi dari sekumpulan nilai tersebut\n",
    "total =0\n",
    "for a in taskValue:\n",
    "    total=total+a\n",
    "    average=total/len(taskValue)\n",
    "    \n",
    "print (\"Nilai Rata-Rata\\t=\",average)\n",
    "\n",
    "sigma=0\n",
    "\n",
    "for each in taskValue:\n",
    "    s=(each-average)**2\n",
    "    sigma=sigma+s\n",
    "print(\"Sigma   \\t=\",sigma)\n",
    "    \n",
    "sd=((sigma/len(taskValue))**0.5)\n",
    "print(\"Standar Deviasi\\t=\",sd)\n"
   ]
  },
  {
   "cell_type": "code",
   "execution_count": 133,
   "metadata": {},
   "outputs": [
    {
     "name": "stdout",
     "output_type": "stream",
     "text": [
      "Nilai Maximum \t= 99\n",
      "Nilai Minimum  \t= 1\n"
     ]
    }
   ],
   "source": [
    "##4. Tampilkan nilai maksimum dan minimum\n",
    "maxValue=taskValue[0]\n",
    "\n",
    "for x in taskValue:\n",
    "    if x>maxValue:\n",
    "        maxValue=x\n",
    "print (\"Nilai Maximum \\t=\",maxValue)\n",
    "    \n",
    "minValue=taskValue[0]\n",
    "\n",
    "for n in taskValue:\n",
    "    if n<minValue:\n",
    "        minValue=n\n",
    "print (\"Nilai Minimum  \\t=\",minValue)"
   ]
  },
  {
   "cell_type": "code",
   "execution_count": 168,
   "metadata": {},
   "outputs": [
    {
     "name": "stdout",
     "output_type": "stream",
     "text": [
      "Nilai Modus = 81 Muncul Sebanyak 7 Kali\n"
     ]
    }
   ],
   "source": [
    "##5. Tampilkan modus dari sekumpulan nilai tersebut\n",
    "nilaiModus=taskValue[0]\n",
    "muncul=taskValue.count(nilaiModus)\n",
    "\n",
    "for x in taskValue:\n",
    "    munculfor=taskValue.count(x)\n",
    "    if munculfor>muncul:\n",
    "        nilaiModus=x\n",
    "        muncul=munculfor\n",
    "        \n",
    "print(\"Nilai Modus =\", nilaiModus,\"Muncul Sebanyak\",muncul,\"Kali\")"
   ]
  },
  {
   "cell_type": "code",
   "execution_count": null,
   "metadata": {},
   "outputs": [],
   "source": []
  }
 ],
 "metadata": {
  "kernelspec": {
   "display_name": "Python 3",
   "language": "python",
   "name": "python3"
  },
  "language_info": {
   "codemirror_mode": {
    "name": "ipython",
    "version": 3
   },
   "file_extension": ".py",
   "mimetype": "text/x-python",
   "name": "python",
   "nbconvert_exporter": "python",
   "pygments_lexer": "ipython3",
   "version": "3.7.0"
  }
 },
 "nbformat": 4,
 "nbformat_minor": 2
}
