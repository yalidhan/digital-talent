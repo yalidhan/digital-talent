{
 "cells": [
  {
   "cell_type": "code",
   "execution_count": 42,
   "metadata": {},
   "outputs": [
    {
     "name": "stdout",
     "output_type": "stream",
     "text": [
      "BMI anda 19.948059768903608 Masuk ke Dalam Kategori Normal(Healthy Weight)\n"
     ]
    }
   ],
   "source": [
    "tinggiBadancm=163.0\n",
    "beratBadankg=53.0\n",
    "height=0.01*tinggiBadancm\n",
    "bmi=beratBadankg/(height**2)\n",
    "\n",
    "if bmi<15:\n",
    "    print(\"BMI anda\",bmi, \"Masuk ke Dalam Kategori Very severely underweight\")\n",
    "elif bmi>=15 and bmi<16:\n",
    "    print(\"BMI anda\",bmi, \"Masuk ke Dalam Kategori Severely underweight\")\n",
    "elif bmi>=16 and bmi<18.5:\n",
    "    print(\"BMI anda\",bmi, \"Masuk ke Dalam Kategori Underweight\")\n",
    "elif bmi>=18.5 and bmi<25:\n",
    "    print(\"BMI anda\",bmi, \"Masuk ke Dalam Kategori Normal(Healthy Weight)\")\n",
    "elif bmi>=25 and bmi<30:\n",
    "    print(\"BMI anda\",bmi, \"Masuk ke Dalam Kategori Overweight\")\n",
    "elif bmi>=30 and bmi<35:\n",
    "    print(\"BMI anda\",bmi, \"Masuk ke Dalam Kategori Moderately obese\")\n",
    "elif bmi>=35 and bmi<40:\n",
    "    print(\"BMI anda\",bmi, \"Masuk ke Dalam Kategori Severly obese\")    \n",
    "elif bmi>40:\n",
    "    print(\"BMI anda\",bmi, \"Masuk ke Dalam Kategoris Very severly obese\")\n",
    "    \n",
    "else :print(\"Tidak terindex\")"
   ]
  },
  {
   "cell_type": "code",
   "execution_count": null,
   "metadata": {},
   "outputs": [],
   "source": []
  }
 ],
 "metadata": {
  "kernelspec": {
   "display_name": "Python 3",
   "language": "python",
   "name": "python3"
  },
  "language_info": {
   "codemirror_mode": {
    "name": "ipython",
    "version": 3
   },
   "file_extension": ".py",
   "mimetype": "text/x-python",
   "name": "python",
   "nbconvert_exporter": "python",
   "pygments_lexer": "ipython3",
   "version": "3.7.0"
  }
 },
 "nbformat": 4,
 "nbformat_minor": 2
}
